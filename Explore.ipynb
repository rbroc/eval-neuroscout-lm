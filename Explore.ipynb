{
 "cells": [
  {
   "cell_type": "code",
   "execution_count": 1,
   "metadata": {},
   "outputs": [],
   "source": [
    "from lmeval.datasets import NarrativesDataset\n",
    "from itertools import chain\n",
    "import glob\n",
    "import pandas as pd"
   ]
  },
  {
   "cell_type": "code",
   "execution_count": 2,
   "metadata": {},
   "outputs": [],
   "source": [
    "als = glob.glob('inputs/narratives/gentle/*/align.csv')\n",
    "trs = glob.glob('inputs/narratives/gentle/*/transcript.txt')\n",
    "pairs = list(zip(als,trs))"
   ]
  },
  {
   "cell_type": "code",
   "execution_count": 125,
   "metadata": {},
   "outputs": [
    {
     "name": "stdout",
     "output_type": "stream",
     "text": [
      "3435 3435\n",
      "474 474\n",
      "910 910\n",
      "2135 2135\n",
      "5344 5344\n",
      "474 474\n",
      "1058 1058\n",
      "1066 1066\n",
      "474 474\n",
      "992 992\n",
      "1059 1059\n",
      "470 470\n",
      "1607 1607\n",
      "471 471\n",
      "1601 1601\n",
      "453 453\n",
      "484 484\n",
      "1544 1544\n",
      "8267 8267\n",
      "1970 1970\n",
      "1379 1379\n",
      "2245 2245\n",
      "488 488\n",
      "957 957\n",
      "951 951\n",
      "2681 2681\n"
     ]
    }
   ],
   "source": [
    "for p in pairs:\n",
    "    a = NarrativesDataset(p[0])\n",
    "    t = NarrativesDataset(p[1], case_sensitive=False)\n",
    "    awds = a.text.split()\n",
    "    twds = t.text.split()\n",
    "    awds = list(chain(*[w.split('—') for w in awds]))\n",
    "    awds = list(chain(*[w.split('–') for w in awds]))\n",
    "    awds = list(chain(*[w.split('-') for w in awds]))\n",
    "    awds = list(chain(*[w.split(':') for w in awds]))\n",
    "    awds = list(chain(*[w.split('.') for w in awds]))\n",
    "    awds = list(chain(*[w.split('…') for w in awds]))\n",
    "    twds = list(chain(*[w.split('—') for w in twds]))\n",
    "    twds = list(chain(*[w.split('–') for w in twds]))\n",
    "    twds = list(chain(*[w.split('-') for w in twds]))\n",
    "    twds = list(chain(*[w.split(':') for w in twds]))\n",
    "    twds = list(chain(*[w.split('.') for w in twds]))\n",
    "    twds = list(chain(*[w.split('…') for w in twds]))\n",
    "    awds = [w for w in twds if w not in ['\"', '', '”', '’', '’”', ',']]\n",
    "    twds = [w for w in twds if w not in ['\"', '', '”', '’', '’”', ',']]\n",
    "    print(len(awds), len(twds))"
   ]
  },
  {
   "cell_type": "code",
   "execution_count": null,
   "metadata": {},
   "outputs": [],
   "source": [
    "# Steps:\n",
    "# Full text\n",
    "# Column 1\n",
    "# Column 2 with <unk> imputation [replace unk with lowercased column 1 and fill in missing]\n",
    "# Column 2 as is "
   ]
  },
  {
   "cell_type": "code",
   "execution_count": 81,
   "metadata": {},
   "outputs": [],
   "source": [
    "### TO DOS:\n",
    "# Implement pliers extractor\n",
    "# Run sample models"
   ]
  }
 ],
 "metadata": {
  "kernelspec": {
   "display_name": "dl_test",
   "language": "python",
   "name": "dl_test"
  },
  "language_info": {
   "codemirror_mode": {
    "name": "ipython",
    "version": 3
   },
   "file_extension": ".py",
   "mimetype": "text/x-python",
   "name": "python",
   "nbconvert_exporter": "python",
   "pygments_lexer": "ipython3",
   "version": "3.8.10"
  }
 },
 "nbformat": 4,
 "nbformat_minor": 4
}
