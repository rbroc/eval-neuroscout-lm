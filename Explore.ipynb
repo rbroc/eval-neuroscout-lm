{
 "cells": [
  {
   "cell_type": "code",
   "execution_count": 1,
   "metadata": {},
   "outputs": [],
   "source": [
    "from lmeval.datasets import NarrativesDataset\n",
    "from itertools import chain\n",
    "import glob\n",
    "import pandas as pd"
   ]
  },
  {
   "cell_type": "code",
   "execution_count": 2,
   "metadata": {},
   "outputs": [],
   "source": [
    "als = glob.glob('inputs/narratives/gentle/*/align.csv')\n",
    "trs = glob.glob('inputs/narratives/gentle/*/transcript.txt')\n",
    "pairs = list(zip(als,trs))"
   ]
  },
  {
   "cell_type": "code",
   "execution_count": 3,
   "metadata": {},
   "outputs": [
    {
     "name": "stdout",
     "output_type": "stream",
     "text": [
      "3426 3426\n",
      "473 473\n",
      "910 910\n",
      "2134 2134\n",
      "5289 5289\n",
      "474 474\n",
      "1052 1052\n",
      "1064 1064\n",
      "472 472\n",
      "981 981\n",
      "1057 1057\n",
      "468 468\n",
      "1594 1594\n",
      "471 471\n",
      "1583 1583\n",
      "453 453\n",
      "476 476\n",
      "1539 1539\n",
      "8194 8194\n",
      "1912 1912\n",
      "1362 1362\n",
      "2244 2244\n",
      "479 479\n",
      "948 948\n",
      "940 940\n",
      "2667 2667\n"
     ]
    }
   ],
   "source": [
    "for p in pairs:\n",
    "    a = NarrativesDataset(p[0])\n",
    "    t = NarrativesDataset(p[1], case_sensitive=True)\n",
    "    awds = a.text.split()\n",
    "    twds = t.text.split()\n",
    "    #awds = list(chain(*[w.split('—') for w in awds]))\n",
    "    #awds = list(chain(*[w.split('–') for w in awds]))\n",
    "    #awds = list(chain(*[w.split('-') for w in awds]))\n",
    "    awds = list(chain(*[w.split(':') for w in awds]))\n",
    "    awds = list(chain(*[w.split('.') for w in awds]))\n",
    "    awds = list(chain(*[w.split('…') for w in awds]))\n",
    "    #twds = list(chain(*[w.split('—') for w in twds]))\n",
    "    #twds = list(chain(*[w.split('–') for w in twds]))\n",
    "    #twds = list(chain(*[w.split('-') for w in twds]))\n",
    "    twds = list(chain(*[w.split(':') for w in twds]))\n",
    "    twds = list(chain(*[w.split('.') for w in twds]))\n",
    "    #twds = list(chain(*[w.split('…') for w in twds]))\n",
    "    awds = [w for w in twds if w not in ['\"', '', '”', '’', '’”', ',']]\n",
    "    twds = [w for w in twds if w not in ['\"', '', '”', '’', '’”', ',']]\n",
    "    print(len(awds), len(twds))"
   ]
  },
  {
   "cell_type": "code",
   "execution_count": null,
   "metadata": {},
   "outputs": [],
   "source": [
    "# Steps:\n",
    "# Full text\n",
    "# Column 1\n",
    "# Column 2 with <unk> imputation [replace unk with lowercased column 1 and fill in missing]\n",
    "# Column 2 as is "
   ]
  },
  {
   "cell_type": "code",
   "execution_count": 81,
   "metadata": {},
   "outputs": [],
   "source": [
    "### TO DOS:\n",
    "# Implement pliers extractor\n",
    "# Run sample models"
   ]
  }
 ],
 "metadata": {
  "kernelspec": {
   "display_name": "dl_test",
   "language": "python",
   "name": "dl_test"
  },
  "language_info": {
   "codemirror_mode": {
    "name": "ipython",
    "version": 3
   },
   "file_extension": ".py",
   "mimetype": "text/x-python",
   "name": "python",
   "nbconvert_exporter": "python",
   "pygments_lexer": "ipython3",
   "version": "3.8.10"
  }
 },
 "nbformat": 4,
 "nbformat_minor": 4
}
