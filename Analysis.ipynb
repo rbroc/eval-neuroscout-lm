{
 "cells": [
  {
   "cell_type": "code",
   "execution_count": 1,
   "metadata": {},
   "outputs": [],
   "source": [
    "from transformers import (GPT2LMHeadModel, GPT2TokenizerFast,\n",
    "                          BertForMaskedLM, BertTokenizerFast,\n",
    "                          DistilBertForMaskedLM, DistilBertTokenizerFast,\n",
    "                          RobertaForMaskedLM, RobertaTokenizerFast,\n",
    "                          BlenderbotForCausalLM, BlenderbotTokenizer,\n",
    "                          BigBirdForMaskedLM, BigBirdTokenizer,\n",
    "                          ElectraForMaskedLM, ElectraTokenizerFast)\n",
    "from multiprocessing import Pool\n",
    "import pandas as pd\n",
    "import glob\n",
    "from itertools import product, combinations\n",
    "import seaborn as sns\n",
    "from matplotlib import pyplot as plt\n",
    "import numpy as np"
   ]
  },
  {
   "cell_type": "code",
   "execution_count": 2,
   "metadata": {},
   "outputs": [],
   "source": [
    "from lmeval.datasets import NarrativesDataset\n",
    "from lmeval.engine import StridingMLM, StridingForwardLM"
   ]
  },
  {
   "cell_type": "code",
   "execution_count": 81,
   "metadata": {},
   "outputs": [],
   "source": [
    "### TO DOS:\n",
    "# Compare GPT2 across window lengths and types\n",
    "# Run on other transcripts\n",
    "# Implement pliers extractor\n",
    "# Run sample models"
   ]
  },
  {
   "cell_type": "markdown",
   "metadata": {},
   "source": [
    "### Initialize list of models and parameters"
   ]
  },
  {
   "cell_type": "code",
   "execution_count": 3,
   "metadata": {},
   "outputs": [],
   "source": [
    "transcripts = glob.glob('inputs/narratives/gentle/*/transcript*')\n",
    "aligned = glob.glob('inputs/narratives/gentle/*/align.csv')\n",
    "dataset_files = transcripts + aligned"
   ]
  },
  {
   "cell_type": "code",
   "execution_count": 4,
   "metadata": {},
   "outputs": [],
   "source": [
    "model_classes = [GPT2LMHeadModel,\n",
    "                 BertForMaskedLM,\n",
    "                 DistilBertForMaskedLM, \n",
    "                 RobertaForMaskedLM, \n",
    "                 BlenderbotForCausalLM, \n",
    "                 BigBirdForMaskedLM,\n",
    "                 ElectraForMaskedLM]\n",
    "model_ids = ['gpt2', \n",
    "             'bert-base-uncased', \n",
    "             'distilbert-base-uncased',\n",
    "             'roberta-base', \n",
    "             'facebook/blenderbot-400M-distill', \n",
    "             'google/bigbird-roberta-base', \n",
    "             'google/electra-base-discriminator']\n",
    "tokenizer_classes = [GPT2TokenizerFast,\n",
    "                     BertTokenizerFast,\n",
    "                     DistilBertTokenizerFast,\n",
    "                     RobertaTokenizerFast,\n",
    "                     BlenderbotTokenizer,\n",
    "                     BigBirdTokenizer,\n",
    "                     ElectraTokenizerFast]\n",
    "model_parameters = list(zip(model_classes, model_ids, tokenizer_classes))"
   ]
  },
  {
   "cell_type": "code",
   "execution_count": 5,
   "metadata": {},
   "outputs": [],
   "source": [
    "ctx_lengths = [5, 10, 15, 20]"
   ]
  },
  {
   "cell_type": "markdown",
   "metadata": {},
   "source": [
    "Create all combinations of files, model_parameters, and context lengths"
   ]
  },
  {
   "cell_type": "code",
   "execution_count": 6,
   "metadata": {},
   "outputs": [],
   "source": [
    "parameters = list(product(dataset_files, \n",
    "                          model_parameters, \n",
    "                          ctx_lengths))\n",
    "parameters = [(i[0], *i[1], i[2]) for i in parameters]"
   ]
  },
  {
   "cell_type": "markdown",
   "metadata": {},
   "source": [
    "### Define validation function + utils\n",
    "... also use to test validation script"
   ]
  },
  {
   "cell_type": "code",
   "execution_count": 7,
   "metadata": {},
   "outputs": [],
   "source": [
    "def _make_dataset_id(datafile):\n",
    "    ds_name_splits = datafile.split('/')\n",
    "    narrative = ds_name_splits[3]\n",
    "    ds_type = ds_name_splits[-1].split('.')[0]\n",
    "    ds_id = '_'.join([narrative, ds_type])\n",
    "    return ds_id"
   ]
  },
  {
   "cell_type": "code",
   "execution_count": 8,
   "metadata": {},
   "outputs": [],
   "source": [
    "def _validate(datafile, model_class, model_id, tokenizer_class, ctx_length):\n",
    "    tokenizer = tokenizer_class.from_pretrained(model_id)\n",
    "    model = model_class.from_pretrained(model_id)\n",
    "    dataset_name = _make_dataset_id(datafile)\n",
    "    data = NarrativesDataset(datafile, dataset_name)\n",
    "    data.text = data.text[:100]\n",
    "    if any([b in model_id for b in ['bert','electra',\n",
    "                                    'bigbird']]):\n",
    "        engine = StridingMLM(context_length=ctx_length)\n",
    "    else:\n",
    "        engine = StridingForwardLM(context_length=ctx_length)\n",
    "    result = engine.run(data, tokenizer, model, model_id)\n",
    "    return result"
   ]
  },
  {
   "cell_type": "code",
   "execution_count": null,
   "metadata": {},
   "outputs": [],
   "source": [
    "for p in parameters:\n",
    "    _validate(*p)"
   ]
  },
  {
   "cell_type": "code",
   "execution_count": null,
   "metadata": {},
   "outputs": [],
   "source": [
    "pool = Pool(2)"
   ]
  },
  {
   "cell_type": "code",
   "execution_count": 61,
   "metadata": {},
   "outputs": [],
   "source": [
    "results = pool.starmap(_validate, parameters)\n",
    "pool.close()"
   ]
  },
  {
   "cell_type": "markdown",
   "metadata": {},
   "source": [
    "## Read in data and plot"
   ]
  },
  {
   "cell_type": "code",
   "execution_count": 53,
   "metadata": {},
   "outputs": [
    {
     "data": {
      "text/html": [
       "<div>\n",
       "<style scoped>\n",
       "    .dataframe tbody tr th:only-of-type {\n",
       "        vertical-align: middle;\n",
       "    }\n",
       "\n",
       "    .dataframe tbody tr th {\n",
       "        vertical-align: top;\n",
       "    }\n",
       "\n",
       "    .dataframe thead th {\n",
       "        text-align: right;\n",
       "    }\n",
       "</style>\n",
       "<table border=\"1\" class=\"dataframe\">\n",
       "  <thead>\n",
       "    <tr style=\"text-align: right;\">\n",
       "      <th></th>\n",
       "      <th>dataset</th>\n",
       "      <th>type</th>\n",
       "      <th>model</th>\n",
       "      <th>context</th>\n",
       "      <th>target</th>\n",
       "      <th>top_predicted</th>\n",
       "      <th>loss</th>\n",
       "      <th>entropy</th>\n",
       "      <th>prob_true</th>\n",
       "      <th>prob_predicted</th>\n",
       "      <th>context_size</th>\n",
       "      <th>is_true</th>\n",
       "      <th>surprisal</th>\n",
       "    </tr>\n",
       "  </thead>\n",
       "  <tbody>\n",
       "    <tr>\n",
       "      <th>0</th>\n",
       "      <td>milkywaysynonyms_align</td>\n",
       "      <td>nopunct</td>\n",
       "      <td>gpt2</td>\n",
       "      <td>martin took a deep breath and tried to calm do...</td>\n",
       "      <td>desperate</td>\n",
       "      <td>over</td>\n",
       "      <td>5.427168</td>\n",
       "      <td>5.071003</td>\n",
       "      <td>1.778503e-04</td>\n",
       "      <td>0.107230</td>\n",
       "      <td>15</td>\n",
       "      <td>0</td>\n",
       "      <td>12.457049</td>\n",
       "    </tr>\n",
       "    <tr>\n",
       "      <th>1</th>\n",
       "      <td>milkywaysynonyms_align</td>\n",
       "      <td>nopunct</td>\n",
       "      <td>gpt2</td>\n",
       "      <td>in took a deep breath and tried to calm down t...</td>\n",
       "      <td>and</td>\n",
       "      <td>.</td>\n",
       "      <td>8.382707</td>\n",
       "      <td>2.373729</td>\n",
       "      <td>3.634312e-02</td>\n",
       "      <td>0.537389</td>\n",
       "      <td>15</td>\n",
       "      <td>0</td>\n",
       "      <td>4.782174</td>\n",
       "    </tr>\n",
       "    <tr>\n",
       "      <th>2</th>\n",
       "      <td>milkywaysynonyms_align</td>\n",
       "      <td>nopunct</td>\n",
       "      <td>gpt2</td>\n",
       "      <td>took a deep breath and tried to calm down the...</td>\n",
       "      <td>after</td>\n",
       "      <td>he</td>\n",
       "      <td>3.349456</td>\n",
       "      <td>6.279768</td>\n",
       "      <td>1.562214e-03</td>\n",
       "      <td>0.073791</td>\n",
       "      <td>15</td>\n",
       "      <td>0</td>\n",
       "      <td>9.322192</td>\n",
       "    </tr>\n",
       "    <tr>\n",
       "      <th>3</th>\n",
       "      <td>milkywaysynonyms_align</td>\n",
       "      <td>nopunct</td>\n",
       "      <td>gpt2</td>\n",
       "      <td>a deep breath and tried to calm down the situ...</td>\n",
       "      <td>mart</td>\n",
       "      <td>a</td>\n",
       "      <td>6.378438</td>\n",
       "      <td>3.677191</td>\n",
       "      <td>1.221023e-07</td>\n",
       "      <td>0.424762</td>\n",
       "      <td>15</td>\n",
       "      <td>0</td>\n",
       "      <td>22.965407</td>\n",
       "    </tr>\n",
       "    <tr>\n",
       "      <th>4</th>\n",
       "      <td>milkywaysynonyms_align</td>\n",
       "      <td>nopunct</td>\n",
       "      <td>gpt2</td>\n",
       "      <td>deep breath and tried to calm down the situat...</td>\n",
       "      <td>in</td>\n",
       "      <td>ing</td>\n",
       "      <td>15.870660</td>\n",
       "      <td>2.605456</td>\n",
       "      <td>3.419201e-02</td>\n",
       "      <td>0.331470</td>\n",
       "      <td>15</td>\n",
       "      <td>0</td>\n",
       "      <td>4.870197</td>\n",
       "    </tr>\n",
       "    <tr>\n",
       "      <th>...</th>\n",
       "      <td>...</td>\n",
       "      <td>...</td>\n",
       "      <td>...</td>\n",
       "      <td>...</td>\n",
       "      <td>...</td>\n",
       "      <td>...</td>\n",
       "      <td>...</td>\n",
       "      <td>...</td>\n",
       "      <td>...</td>\n",
       "      <td>...</td>\n",
       "      <td>...</td>\n",
       "      <td>...</td>\n",
       "      <td>...</td>\n",
       "    </tr>\n",
       "    <tr>\n",
       "      <th>624049</th>\n",
       "      <td>merlin_align</td>\n",
       "      <td>nopunct</td>\n",
       "      <td>gpt2</td>\n",
       "      <td>i can't recall right</td>\n",
       "      <td>now</td>\n",
       "      <td>now</td>\n",
       "      <td>8.019837</td>\n",
       "      <td>0.563913</td>\n",
       "      <td>9.229643e-01</td>\n",
       "      <td>0.922964</td>\n",
       "      <td>5</td>\n",
       "      <td>0</td>\n",
       "      <td>0.115653</td>\n",
       "    </tr>\n",
       "    <tr>\n",
       "      <th>624050</th>\n",
       "      <td>merlin_align</td>\n",
       "      <td>nopunct</td>\n",
       "      <td>gpt2</td>\n",
       "      <td>can't recall right now</td>\n",
       "      <td>um</td>\n",
       "      <td>.</td>\n",
       "      <td>0.242308</td>\n",
       "      <td>3.315982</td>\n",
       "      <td>5.876319e-06</td>\n",
       "      <td>0.228224</td>\n",
       "      <td>5</td>\n",
       "      <td>0</td>\n",
       "      <td>17.376656</td>\n",
       "    </tr>\n",
       "    <tr>\n",
       "      <th>624051</th>\n",
       "      <td>merlin_align</td>\n",
       "      <td>nopunct</td>\n",
       "      <td>gpt2</td>\n",
       "      <td>'t recall right now um</td>\n",
       "      <td>yeah</td>\n",
       "      <td>,</td>\n",
       "      <td>11.621897</td>\n",
       "      <td>3.585528</td>\n",
       "      <td>5.821664e-04</td>\n",
       "      <td>0.308505</td>\n",
       "      <td>5</td>\n",
       "      <td>0</td>\n",
       "      <td>10.746281</td>\n",
       "    </tr>\n",
       "    <tr>\n",
       "      <th>624052</th>\n",
       "      <td>merlin_align</td>\n",
       "      <td>nopunct</td>\n",
       "      <td>gpt2</td>\n",
       "      <td>recall right now um yeah</td>\n",
       "      <td>that</td>\n",
       "      <td>,</td>\n",
       "      <td>6.456673</td>\n",
       "      <td>4.504586</td>\n",
       "      <td>2.558161e-02</td>\n",
       "      <td>0.176140</td>\n",
       "      <td>5</td>\n",
       "      <td>0</td>\n",
       "      <td>5.288749</td>\n",
       "    </tr>\n",
       "    <tr>\n",
       "      <th>624053</th>\n",
       "      <td>merlin_align</td>\n",
       "      <td>nopunct</td>\n",
       "      <td>gpt2</td>\n",
       "      <td>right now um yeah that</td>\n",
       "      <td>'s</td>\n",
       "      <td>'s</td>\n",
       "      <td>3.812908</td>\n",
       "      <td>3.300328</td>\n",
       "      <td>4.797096e-01</td>\n",
       "      <td>0.479710</td>\n",
       "      <td>5</td>\n",
       "      <td>1</td>\n",
       "      <td>1.059767</td>\n",
       "    </tr>\n",
       "  </tbody>\n",
       "</table>\n",
       "<p>624054 rows × 13 columns</p>\n",
       "</div>"
      ],
      "text/plain": [
       "                       dataset     type model  \\\n",
       "0       milkywaysynonyms_align  nopunct  gpt2   \n",
       "1       milkywaysynonyms_align  nopunct  gpt2   \n",
       "2       milkywaysynonyms_align  nopunct  gpt2   \n",
       "3       milkywaysynonyms_align  nopunct  gpt2   \n",
       "4       milkywaysynonyms_align  nopunct  gpt2   \n",
       "...                        ...      ...   ...   \n",
       "624049            merlin_align  nopunct  gpt2   \n",
       "624050            merlin_align  nopunct  gpt2   \n",
       "624051            merlin_align  nopunct  gpt2   \n",
       "624052            merlin_align  nopunct  gpt2   \n",
       "624053            merlin_align  nopunct  gpt2   \n",
       "\n",
       "                                                  context      target  \\\n",
       "0       martin took a deep breath and tried to calm do...   desperate   \n",
       "1       in took a deep breath and tried to calm down t...         and   \n",
       "2        took a deep breath and tried to calm down the...       after   \n",
       "3        a deep breath and tried to calm down the situ...        mart   \n",
       "4        deep breath and tried to calm down the situat...          in   \n",
       "...                                                   ...         ...   \n",
       "624049                               i can't recall right         now   \n",
       "624050                             can't recall right now          um   \n",
       "624051                             't recall right now um        yeah   \n",
       "624052                           recall right now um yeah        that   \n",
       "624053                             right now um yeah that          's   \n",
       "\n",
       "       top_predicted       loss   entropy     prob_true  prob_predicted  \\\n",
       "0               over   5.427168  5.071003  1.778503e-04        0.107230   \n",
       "1                  .   8.382707  2.373729  3.634312e-02        0.537389   \n",
       "2                 he   3.349456  6.279768  1.562214e-03        0.073791   \n",
       "3                  a   6.378438  3.677191  1.221023e-07        0.424762   \n",
       "4                ing  15.870660  2.605456  3.419201e-02        0.331470   \n",
       "...              ...        ...       ...           ...             ...   \n",
       "624049           now   8.019837  0.563913  9.229643e-01        0.922964   \n",
       "624050             .   0.242308  3.315982  5.876319e-06        0.228224   \n",
       "624051             ,  11.621897  3.585528  5.821664e-04        0.308505   \n",
       "624052             ,   6.456673  4.504586  2.558161e-02        0.176140   \n",
       "624053            's   3.812908  3.300328  4.797096e-01        0.479710   \n",
       "\n",
       "        context_size  is_true  surprisal  \n",
       "0                 15        0  12.457049  \n",
       "1                 15        0   4.782174  \n",
       "2                 15        0   9.322192  \n",
       "3                 15        0  22.965407  \n",
       "4                 15        0   4.870197  \n",
       "...              ...      ...        ...  \n",
       "624049             5        0   0.115653  \n",
       "624050             5        0  17.376656  \n",
       "624051             5        0  10.746281  \n",
       "624052             5        0   5.288749  \n",
       "624053             5        1   1.059767  \n",
       "\n",
       "[624054 rows x 13 columns]"
      ]
     },
     "execution_count": 53,
     "metadata": {},
     "output_type": "execute_result"
    }
   ],
   "source": [
    "all_logs"
   ]
  },
  {
   "cell_type": "code",
   "execution_count": 5,
   "metadata": {},
   "outputs": [],
   "source": [
    "logs = glob.glob('outputs/narratives/*')"
   ]
  },
  {
   "cell_type": "code",
   "execution_count": 6,
   "metadata": {},
   "outputs": [
    {
     "name": "stdout",
     "output_type": "stream",
     "text": [
      "0 of 312\n",
      "100 of 312\n",
      "200 of 312\n",
      "300 of 312\n"
     ]
    }
   ],
   "source": [
    "for i, l in enumerate(logs):\n",
    "    ldf = pd.read_csv(l, sep='\\t', index_col=0)\n",
    "    if i % 100 == 0:\n",
    "        print(f'{i} of {len(logs)}')\n",
    "    if l == logs[0]:\n",
    "        all_logs = ldf\n",
    "    else:\n",
    "        all_logs = pd.concat([all_logs, \n",
    "                              ldf], ignore_index=True)"
   ]
  },
  {
   "cell_type": "code",
   "execution_count": 7,
   "metadata": {},
   "outputs": [],
   "source": [
    "all_logs['is_true'] = (all_logs['target'] == all_logs['top_predicted']).astype(int)\n",
    "all_logs['surprisal'] = -np.log2(all_logs['prob_true'])\n",
    "all_logs = all_logs.replace({'aligned': 'nopunct', 'transcript':'punct'})"
   ]
  },
  {
   "cell_type": "code",
   "execution_count": 58,
   "metadata": {},
   "outputs": [],
   "source": [
    "metrics = ['is_true', 'surprisal', 'entropy', 'prob_true', 'prob_predicted']"
   ]
  },
  {
   "cell_type": "code",
   "execution_count": 59,
   "metadata": {},
   "outputs": [],
   "source": [
    "aggs = all_logs.groupby(['type', 'model', 'context_size', 'dataset'])[metrics].mean().reset_index()"
   ]
  },
  {
   "cell_type": "code",
   "execution_count": 68,
   "metadata": {},
   "outputs": [
    {
     "data": {
      "image/png": "[encoded data removed]",
      "text/plain": [
       "<Figure size 1080x216 with 5 Axes>"
      ]
     },
     "metadata": {
      "needs_background": "light"
     },
     "output_type": "display_data"
    }
   ],
   "source": [
    "fig, ax = plt.subplots(ncols=5, figsize=(15,3))\n",
    "for i, m in enumerate(metrics):\n",
    "    sns.pointplot(data=aggs, \n",
    "                  x='context_size', \n",
    "                  y=m, \n",
    "                  hue='type', \n",
    "                  ax=ax[i],\n",
    "                  palette='RdBu')\n",
    "    if i != 4:\n",
    "        ax[i].legend('')\n",
    "    else:\n",
    "        ax[i].legend(title='')\n",
    "    ax[i].set_title(m)\n",
    "    ax[i].set_ylabel('')\n",
    "    #ax[i].set_xticklabels(labels=np.arange(0,35,5), rotation=90)\n",
    "plt.tight_layout()\n",
    "plt.show()"
   ]
  },
  {
   "cell_type": "code",
   "execution_count": 75,
   "metadata": {},
   "outputs": [],
   "source": [
    "l = all_logs\n",
    "l['ds'] = l['dataset'].str.split('_').str[0]"
   ]
  },
  {
   "cell_type": "code",
   "execution_count": 96,
   "metadata": {},
   "outputs": [
    {
     "name": "stdout",
     "output_type": "stream",
     "text": [
      " took a deep breath and tried to calm down the situation was almost desperate and after martin spent most of the last weeks drunk\n",
      " a deep breath and tried to calm down. The situation was almost desperate, and after Martin spent most of the last weeks drunk\n"
     ]
    }
   ],
   "source": [
    "print(l[(l['type'] == 'nopunct') & (l['ds'] == 'milkywaysynonyms') & (l['context_size'] == 25)].context.iloc[2])\n",
    "print(l[(l['type'] == 'punct') & (l['ds'] == 'milkywaysynonyms') & (l['context_size'] == 25)].context.iloc[2])"
   ]
  },
  {
   "cell_type": "code",
   "execution_count": 80,
   "metadata": {},
   "outputs": [
    {
     "data": {
      "text/plain": [
       "(7149, 14)"
      ]
     },
     "execution_count": 80,
     "metadata": {},
     "output_type": "execute_result"
    }
   ],
   "source": [
    "l[(l['type'] == 'nopunct') & (l['ds'] == 'milkywaysynonyms')].shape"
   ]
  },
  {
   "cell_type": "code",
   "execution_count": 81,
   "metadata": {},
   "outputs": [
    {
     "data": {
      "text/plain": [
       "(9219, 14)"
      ]
     },
     "execution_count": 81,
     "metadata": {},
     "output_type": "execute_result"
    }
   ],
   "source": [
    "l[(l['type'] == 'punct') & (l['ds'] == 'milkywaysynonyms')].shape"
   ]
  },
  {
   "cell_type": "code",
   "execution_count": null,
   "metadata": {},
   "outputs": [],
   "source": []
  }
 ],
 "metadata": {
  "kernelspec": {
   "display_name": "dl_test",
   "language": "python",
   "name": "dl_test"
  },
  "language_info": {
   "codemirror_mode": {
    "name": "ipython",
    "version": 3
   },
   "file_extension": ".py",
   "mimetype": "text/x-python",
   "name": "python",
   "nbconvert_exporter": "python",
   "pygments_lexer": "ipython3",
   "version": "3.8.10"
  }
 },
 "nbformat": 4,
 "nbformat_minor": 4
}
