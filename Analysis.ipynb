{
 "cells": [
  {
   "cell_type": "code",
   "execution_count": 121,
   "metadata": {},
   "outputs": [],
   "source": [
    "from transformers import (GPT2LMHeadModel, GPT2TokenizerFast,\n",
    "                          BertForMaskedLM, BertTokenizerFast,\n",
    "                          DistilBertForMaskedLM, DistilBertTokenizerFast,\n",
    "                          RobertaForMaskedLM, RobertaTokenizerFast,\n",
    "                          BlenderbotForCausalLM, BlenderbotTokenizer,\n",
    "                          BigBirdForMaskedLM, BigBirdTokenizer,\n",
    "                          ElectraForMaskedLM, ElectraTokenizerFast)\n",
    "from multiprocessing import Pool\n",
    "import pandas as pd\n",
    "import glob\n",
    "from itertools import product, combinations\n",
    "import seaborn as sns\n",
    "from matplotlib import pyplot as plt\n",
    "import numpy as np"
   ]
  },
  {
   "cell_type": "code",
   "execution_count": 122,
   "metadata": {},
   "outputs": [],
   "source": [
    "from lmeval.datasets import NarrativesDataset\n",
    "from lmeval.engine import StridingMLM, StridingForwardLM"
   ]
  },
  {
   "cell_type": "code",
   "execution_count": 81,
   "metadata": {},
   "outputs": [],
   "source": [
    "### TO DOS:\n",
    "# Compare GPT2 across window lengths and types\n",
    "# Run on other transcripts\n",
    "# Implement pliers extractor\n",
    "# Run sample models"
   ]
  },
  {
   "cell_type": "markdown",
   "metadata": {},
   "source": [
    "### Initialize list of models and parameters"
   ]
  },
  {
   "cell_type": "code",
   "execution_count": 3,
   "metadata": {},
   "outputs": [],
   "source": [
    "transcripts = glob.glob('inputs/narratives/gentle/*/transcript*')\n",
    "aligned = glob.glob('inputs/narratives/gentle/*/align.csv')\n",
    "dataset_files = transcripts + aligned"
   ]
  },
  {
   "cell_type": "code",
   "execution_count": 4,
   "metadata": {},
   "outputs": [],
   "source": [
    "model_classes = [GPT2LMHeadModel,\n",
    "                 BertForMaskedLM,\n",
    "                 DistilBertForMaskedLM, \n",
    "                 RobertaForMaskedLM, \n",
    "                 BlenderbotForCausalLM, \n",
    "                 BigBirdForMaskedLM,\n",
    "                 ElectraForMaskedLM]\n",
    "model_ids = ['gpt2', \n",
    "             'bert-base-uncased', \n",
    "             'distilbert-base-uncased',\n",
    "             'roberta-base', \n",
    "             'facebook/blenderbot-400M-distill', \n",
    "             'google/bigbird-roberta-base', \n",
    "             'google/electra-base-discriminator']\n",
    "tokenizer_classes = [GPT2TokenizerFast,\n",
    "                     BertTokenizerFast,\n",
    "                     DistilBertTokenizerFast,\n",
    "                     RobertaTokenizerFast,\n",
    "                     BlenderbotTokenizer,\n",
    "                     BigBirdTokenizer,\n",
    "                     ElectraTokenizerFast]\n",
    "model_parameters = list(zip(model_classes, model_ids, tokenizer_classes))"
   ]
  },
  {
   "cell_type": "code",
   "execution_count": 5,
   "metadata": {},
   "outputs": [],
   "source": [
    "ctx_lengths = [5, 10, 15, 20]"
   ]
  },
  {
   "cell_type": "markdown",
   "metadata": {},
   "source": [
    "Create all combinations of files, model_parameters, and context lengths"
   ]
  },
  {
   "cell_type": "code",
   "execution_count": 6,
   "metadata": {},
   "outputs": [],
   "source": [
    "parameters = list(product(dataset_files, \n",
    "                          model_parameters, \n",
    "                          ctx_lengths))\n",
    "parameters = [(i[0], *i[1], i[2]) for i in parameters]"
   ]
  },
  {
   "cell_type": "markdown",
   "metadata": {},
   "source": [
    "### Define validation function + utils\n",
    "... also use to test validation script"
   ]
  },
  {
   "cell_type": "code",
   "execution_count": 7,
   "metadata": {},
   "outputs": [],
   "source": [
    "def _make_dataset_id(datafile):\n",
    "    ds_name_splits = datafile.split('/')\n",
    "    narrative = ds_name_splits[3]\n",
    "    ds_type = ds_name_splits[-1].split('.')[0]\n",
    "    ds_id = '_'.join([narrative, ds_type])\n",
    "    return ds_id"
   ]
  },
  {
   "cell_type": "code",
   "execution_count": 8,
   "metadata": {},
   "outputs": [],
   "source": [
    "def _validate(datafile, model_class, model_id, tokenizer_class, ctx_length):\n",
    "    tokenizer = tokenizer_class.from_pretrained(model_id)\n",
    "    model = model_class.from_pretrained(model_id)\n",
    "    dataset_name = _make_dataset_id(datafile)\n",
    "    data = NarrativesDataset(datafile, dataset_name)\n",
    "    data.text = data.text[:100]\n",
    "    if any([b in model_id for b in ['bert','electra',\n",
    "                                    'bigbird']]):\n",
    "        engine = StridingMLM(context_length=ctx_length)\n",
    "    else:\n",
    "        engine = StridingForwardLM(context_length=ctx_length)\n",
    "    result = engine.run(data, tokenizer, model, model_id)\n",
    "    return result"
   ]
  },
  {
   "cell_type": "code",
   "execution_count": null,
   "metadata": {},
   "outputs": [],
   "source": [
    "for p in parameters:\n",
    "    _validate(*p)"
   ]
  },
  {
   "cell_type": "code",
   "execution_count": null,
   "metadata": {},
   "outputs": [],
   "source": [
    "pool = Pool(2)"
   ]
  },
  {
   "cell_type": "code",
   "execution_count": 61,
   "metadata": {},
   "outputs": [],
   "source": [
    "results = pool.starmap(_validate, parameters)\n",
    "pool.close()"
   ]
  },
  {
   "cell_type": "markdown",
   "metadata": {},
   "source": [
    "## Read in data and plot"
   ]
  },
  {
   "cell_type": "code",
   "execution_count": 197,
   "metadata": {},
   "outputs": [],
   "source": [
    "logs_bert = glob.glob('outputs/narratives_test/*')\n",
    "logs_gpt = glob.glob('outputs/narratives/*')"
   ]
  },
  {
   "cell_type": "code",
   "execution_count": 198,
   "metadata": {},
   "outputs": [
    {
     "name": "stdout",
     "output_type": "stream",
     "text": [
      "0 of 156\n",
      "100 of 156\n"
     ]
    }
   ],
   "source": [
    "for i, l in enumerate(logs_bert):\n",
    "    ldf = pd.read_csv(l, sep='\\t', index_col=0)\n",
    "    if i % 100 == 0:\n",
    "        print(f'{i} of {len(logs_bert)}')\n",
    "    if l == logs_bert[0]:\n",
    "        all_logs_bert = ldf\n",
    "    else:\n",
    "        all_logs_bert = pd.concat([all_logs_bert, \n",
    "                              ldf], ignore_index=True)"
   ]
  },
  {
   "cell_type": "code",
   "execution_count": 199,
   "metadata": {},
   "outputs": [],
   "source": [
    "c = 0\n",
    "for i, l in enumerate(logs_gpt):\n",
    "    if ('bert-base-uncased' not in l) and ('bigbird' not in l):\n",
    "        c += 1\n",
    "        ldf = pd.read_csv(l, sep='\\t', index_col=0)\n",
    "        if i % 100 == 0:\n",
    "            print(f'{i} of {len(logs_gpt)}')\n",
    "        if c == 1:\n",
    "            all_logs_gpt = ldf\n",
    "        else:\n",
    "            all_logs_gpt = pd.concat([all_logs_gpt, \n",
    "                                  ldf], ignore_index=True)"
   ]
  },
  {
   "cell_type": "code",
   "execution_count": 200,
   "metadata": {},
   "outputs": [],
   "source": [
    "all_logs = pd.concat([all_logs_bert, all_logs_gpt], ignore_index=True)"
   ]
  },
  {
   "cell_type": "code",
   "execution_count": 201,
   "metadata": {},
   "outputs": [],
   "source": [
    "l25 = all_logs[all_logs['context_size']==25]\n",
    "l25['is_true'] = (l25['target'] == l25['top_predicted']).astype(int)\n",
    "l25['surprisal'] = -np.log2(l25['prob_true'])\n",
    "l25 = l25.replace({'aligned': 'nopunct', 'transcript':'punct'})"
   ]
  },
  {
   "cell_type": "code",
   "execution_count": 202,
   "metadata": {},
   "outputs": [],
   "source": [
    "metrics = ['is_true', 'surprisal', 'entropy']"
   ]
  },
  {
   "cell_type": "code",
   "execution_count": 203,
   "metadata": {},
   "outputs": [],
   "source": [
    "aggs = l25.groupby(['type', 'model'])[metrics].mean().reset_index()"
   ]
  },
  {
   "cell_type": "code",
   "execution_count": 204,
   "metadata": {},
   "outputs": [
    {
     "data": {
      "image/png": "[encoded data removed]",
      "text/plain": [
       "<Figure size 432x288 with 1 Axes>"
      ]
     },
     "metadata": {
      "needs_background": "light"
     },
     "output_type": "display_data"
    },
    {
     "data": {
      "image/png": "[encoded data removed]",
      "text/plain": [
       "<Figure size 432x288 with 1 Axes>"
      ]
     },
     "metadata": {
      "needs_background": "light"
     },
     "output_type": "display_data"
    },
    {
     "data": {
      "image/png": "[encoded data removed]",
      "text/plain": [
       "<Figure size 432x288 with 1 Axes>"
      ]
     },
     "metadata": {
      "needs_background": "light"
     },
     "output_type": "display_data"
    }
   ],
   "source": [
    "for m in metrics:\n",
    "    sns.scatterplot(data=aggs, x='model', y=m, hue='type')\n",
    "    plt.xticks(rotation=90)\n",
    "    plt.show()"
   ]
  },
  {
   "cell_type": "code",
   "execution_count": 176,
   "metadata": {},
   "outputs": [],
   "source": [
    "model_pairs = list(combinations(l25['model'].unique(), 2))"
   ]
  }
 ],
 "metadata": {
  "kernelspec": {
   "display_name": "dl_test",
   "language": "python",
   "name": "dl_test"
  },
  "language_info": {
   "codemirror_mode": {
    "name": "ipython",
    "version": 3
   },
   "file_extension": ".py",
   "mimetype": "text/x-python",
   "name": "python",
   "nbconvert_exporter": "python",
   "pygments_lexer": "ipython3",
   "version": "3.8.10"
  }
 },
 "nbformat": 4,
 "nbformat_minor": 4
}
